{
 "cells": [
  {
   "cell_type": "markdown",
   "metadata": {
    "vscode": {
     "languageId": "latex"
    }
   },
   "source": [
    "<h3> Task 1 </h3>\n",
    "\n",
    "The operator GameCoins = (0.6, 0.4 ; 0.3, 0.7) is applied to the probabilistic state (0.1; 0.9)\n",
    "\n",
    "Then the probabilistic state is: \n",
    "\n",
    "\n",
    "(0.6, 0.4 ; 0.3, 0.7)(0.1;0.9) = (0.33;0.67)\n",
    "\n",
    "\n",
    "Please verify the correctness of matrix-vector multiplication."
   ]
  },
  {
   "cell_type": "markdown",
   "metadata": {},
   "source": []
  },
  {
   "cell_type": "markdown",
   "metadata": {},
   "source": [
    "<h3> Task 2 </h3>\n",
    "\n",
    "We are given the following probabilistic operator: \n",
    "\n",
    "B = [0.4, 0.2, 0.4 ; 0.6, 0.1, 0.3 ; 0, 0.7, 0.3]\n",
    "\n",
    "What is the transition probability from the second state to the third state?\n",
    "\n",
    "What is the transition probability from the third state to the first state?\n",
    "\n",
    "What is the transition probability from the first state to the second state?"
   ]
  },
  {
   "cell_type": "markdown",
   "metadata": {},
   "source": []
  },
  {
   "cell_type": "markdown",
   "metadata": {},
   "source": [
    "<h3>Task 3</h3>\n",
    "\n",
    "Randomly construct a $ (3 \\times 3 ) $-dimensional probabilistic operator.\n",
    "\n",
    "That is, randomly determine the entries of the matrix that represents a probabilistic operator."
   ]
  },
  {
   "cell_type": "code",
   "execution_count": 4,
   "metadata": {},
   "outputs": [
    {
     "name": "stdout",
     "output_type": "stream",
     "text": [
      "Before normalization:  [[72, 85, 13], [62, 56, 11], [27, 1, 85]]\n",
      "After normalization:  [[0.4472049689440994, 0.5985915492957746, 0.11926605504587157], [0.38509316770186336, 0.39436619718309857, 0.10091743119266056], [0.16770186335403728, 0.007042253521126761, 0.7798165137614679]]\n",
      "[1.0, 1.0, 1.0]\n"
     ]
    }
   ],
   "source": [
    "A = [\n",
    "    [0,0,0],\n",
    "    [0,0,0],\n",
    "    [0,0,0]\n",
    "]\n",
    "\n",
    "normalization_factor = [0, 0, 0]\n",
    "\n",
    "from random import randrange\n",
    "\n",
    "for j in range(3):\n",
    "    normalization_factor[j] = 0\n",
    "    while normalization_factor[j] == 0:\n",
    "        for i in range(3):\n",
    "            A[i][j] = randrange(101)\n",
    "            normalization_factor[j]+= A[i][j]\n",
    "\n",
    "print(\"Before normalization: \", A)\n",
    "\n",
    "#normalizing each column entries\n",
    "for j in range(3):\n",
    "    for i in range(3):\n",
    "        A[i][j] /= normalization_factor[j]\n",
    "\n",
    "print(\"After normalization: \", A)\n",
    "\n",
    "#Checking if the column summations are 1\n",
    "sum = [0,0,0]\n",
    "for j in range(3):\n",
    "    for i in range(3):\n",
    "        sum[j] +=A[i][j]\n",
    "\n",
    "print(sum)\n"
   ]
  },
  {
   "cell_type": "markdown",
   "metadata": {},
   "source": [
    "<a id=\"task4\"></a>\n",
    "<h3>Task 4</h3>\n",
    "\n",
    "What is the new probabilistic state if the operator B = [0.4, 0.2, 0.4; 0.6, 0.1, 0.3; 0, 0.7, 0.3] is applied to the state [0.1, 0.6, 0.3]\n",
    "Please find the result by using matrix-vector multiplication.\n",
    "\n",
    "Please do not use any python library for matrix-vector multiplication. \n",
    "\n",
    "<i> The new probabilistic state should be [0.22, 0.47, 0.31]</i>"
   ]
  },
  {
   "cell_type": "markdown",
   "metadata": {},
   "source": []
  },
  {
   "cell_type": "code",
   "execution_count": 6,
   "metadata": {},
   "outputs": [
    {
     "name": "stdout",
     "output_type": "stream",
     "text": [
      "[0.22, 0.47, 0.31]\n"
     ]
    }
   ],
   "source": [
    "B = [\n",
    "    [0.4, 0.6, 0],\n",
    "    [0.2, 0.1, 0.7],\n",
    "    [0.4,0.3,0.3]\n",
    "]\n",
    "\n",
    "v = [0.1,0.3,0.6]\n",
    "\n",
    "new_state = []\n",
    "\n",
    "index = 0\n",
    "for row in B:\n",
    "    new_state.append(0)\n",
    "\n",
    "    for i in range(len(row)):\n",
    "        new_state[index] = new_state[index] + row[i] * v[i]\n",
    "    index += 1\n",
    "\n",
    "print(new_state)"
   ]
  }
 ],
 "metadata": {
  "kernelspec": {
   "display_name": "Python 3",
   "language": "python",
   "name": "python3"
  },
  "language_info": {
   "codemirror_mode": {
    "name": "ipython",
    "version": 3
   },
   "file_extension": ".py",
   "mimetype": "text/x-python",
   "name": "python",
   "nbconvert_exporter": "python",
   "pygments_lexer": "ipython3",
   "version": "3.11.1"
  }
 },
 "nbformat": 4,
 "nbformat_minor": 2
}
