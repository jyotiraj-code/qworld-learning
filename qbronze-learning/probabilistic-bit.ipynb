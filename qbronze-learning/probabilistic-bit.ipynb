{
 "cells": [
  {
   "cell_type": "markdown",
   "metadata": {},
   "source": [
    "<h3> Task 2 </h3>\n",
    "\n",
    "Suppose that Fyodor secretly rolls a loaded (tricky) dice with the bias \n",
    "\n",
    "$$ Pr(1):Pr(2):Pr(3):Pr(4):Pr(5):Pr(6) = 7:5:4:2:6:1 . $$\n",
    "\n",
    "Represent your information about the result as a column vector. Remark that the size of your column vector should be 6.\n",
    "\n",
    "You may use python for your calculations."
   ]
  },
  {
   "cell_type": "code",
   "execution_count": 1,
   "metadata": {},
   "outputs": [
    {
     "name": "stdout",
     "output_type": "stream",
     "text": [
      "total probability 25\n",
      "the probability of getting 1 is 0.28\n",
      "the probability of getting 2 is 0.2\n",
      "the probability of getting 3 is 0.16\n",
      "the probability of getting 4 is 0.08\n",
      "the probability of getting 5 is 0.24\n",
      "the probability of getting 6 is 0.04\n"
     ]
    }
   ],
   "source": [
    "#\n",
    "# your code is here\n",
    "#\n",
    "probs = [7,5,4,2,6,1]\n",
    "total_prob = 0\n",
    "for i in probs:\n",
    "    total_prob +=i\n",
    "    \n",
    "print(\"total probability\", total_prob)\n",
    "one_portion = 1/total_prob\n",
    "\n",
    "    \n",
    "for j in range(6):\n",
    "    print(\"the probability of getting\",(j+1),\"is\",(one_portion*probs[j]))\n"
   ]
  },
  {
   "cell_type": "markdown",
   "metadata": {},
   "source": [
    "<h3> Task 3 </h3>\n",
    "\n",
    "For a system with 4 states, randomly create a probabilistic state, and print its entries, e.g., $ 0.16~~0.17~~0.02~~0.65 $.\n",
    "\n",
    "<i>Hint: You may pick your random numbers between 0 and 100 (or 1000), and then normalize each value by dividing the summation of all numbers.</i>"
   ]
  },
  {
   "cell_type": "code",
   "execution_count": 3,
   "metadata": {},
   "outputs": [
    {
     "name": "stdout",
     "output_type": "stream",
     "text": [
      "The states before the normalization:  [52, 70, 52, 14]\n",
      "the random values after the normalization [0.2765957446808511, 0.3723404255319149, 0.2765957446808511, 0.07446808510638298]\n",
      "the summation is 1.0\n"
     ]
    }
   ],
   "source": [
    "states = [0,0,0,0]\n",
    "\n",
    "normalization_factor = 0\n",
    "\n",
    "from random import randrange\n",
    "\n",
    "while normalization_factor == 0:\n",
    "    for i in range(4):\n",
    "        states[i] = randrange(101)\n",
    "        normalization_factor += states[i]\n",
    "\n",
    "    print(\"The states before the normalization: \", states)\n",
    "    \n",
    "    for i in range(4): \n",
    "        states[i] = states[i]/normalization_factor\n",
    "    \n",
    "print(\"the random values after the normalization\",states)  \n",
    "\n",
    "#  find their summation\n",
    "sum = 0\n",
    "for i in range(4): sum += states[i]\n",
    "\n",
    "print(\"the summation is\",sum)"
   ]
  }
 ],
 "metadata": {
  "kernelspec": {
   "display_name": "Python 3",
   "language": "python",
   "name": "python3"
  },
  "language_info": {
   "codemirror_mode": {
    "name": "ipython",
    "version": 3
   },
   "file_extension": ".py",
   "mimetype": "text/x-python",
   "name": "python",
   "nbconvert_exporter": "python",
   "pygments_lexer": "ipython3",
   "version": "3.11.1"
  }
 },
 "nbformat": 4,
 "nbformat_minor": 2
}
