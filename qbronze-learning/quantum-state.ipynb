{
 "cells": [
  {
   "cell_type": "markdown",
   "metadata": {},
   "source": [
    "<h3> Task 1 </h3>\n",
    "\n",
    "If the following vectors are valid quantum states defined with real numbers, then what can be the values of $a$ and $b$?\n",
    "\n",
    "$$\n",
    "    \\ket{v} = \\myrvector{a \\\\ -0.1 \\\\ -0.3 \\\\ 0.4 \\\\ 0.5}\n",
    "    ~~~~~ \\mbox{and} ~~~~~\n",
    "   \\ket{u} = \\myrvector{ \\frac{1}{\\sqrt{2}} \\\\ \\frac{1}{\\sqrt{b}} \\\\ -\\frac{1}{\\sqrt{3}} }.\n",
    "$$"
   ]
  },
  {
   "cell_type": "code",
   "execution_count": 1,
   "metadata": {},
   "outputs": [
    {
     "name": "stdout",
     "output_type": "stream",
     "text": [
      "0.285857157145715\n",
      "5.999999999999997\n"
     ]
    }
   ],
   "source": [
    "#\n",
    "# your code is here \n",
    "#    (you may find the values by hand (in mind) as well)\n",
    "#\n",
    "import numpy as np\n",
    "v = [-0.1, -0.3, 0.4, 0.5]\n",
    "u = [1/np.sqrt(2), -1/np.sqrt(3)]\n",
    "\n",
    "sum1 = sum2 = 0\n",
    "for i in range(len(v)):\n",
    "    sum1 += v[i]**2\n",
    "a = 1 - np.sqrt(sum1)\n",
    "print(a)\n",
    "    \n",
    "for j in range(len(u)):\n",
    "    sum2 +=u[j]**2\n",
    "missing_part = 1 - sum2\n",
    "\n",
    "print(1/missing_part)"
   ]
  },
  {
   "cell_type": "markdown",
   "metadata": {},
   "source": [
    "<a id=\"task2\"></a>\n",
    "<h3> Task 2</h3>\n",
    "\n",
    "Remember Hadamard operator:\n",
    "\n",
    "$$\n",
    "    H = \\hadamard.\n",
    "$$"
   ]
  },
  {
   "cell_type": "markdown",
   "metadata": {},
   "source": [
    "Randomly create a 2-dimensional quantum state, and test whether Hadamard operator preserves its length or not.\n",
    "\n",
    "<b>Write a function</b> that returns a randomly created 2-dimensional quantum state.\n",
    "\n",
    "<i>Hint:\n",
    "<ul>\n",
    "    <li> Pick two random values between -100 and 100 for the amplitudes of state 0 and state 1 </li>\n",
    "    <li> Find an appropriate normalization factor to divide each amplitude such that the length of quantum state should be 1 </li>\n",
    "</ul>\n",
    "</i>"
   ]
  },
  {
   "cell_type": "markdown",
   "metadata": {},
   "source": [
    "<b>Write a function</b> that determines whether a given vector is a valid quantum state or not.\n",
    "\n",
    "(Due to precision problem, the summation of squares may not be exactly 1 but very close to 1, e.g., 0.9999999999999998.)\n",
    "\n",
    "<b>Repeat 10 times:</b>\n",
    "<ul>\n",
    "    <li> Randomly pick a quantum state </li>\n",
    "    <li> Check whether the picked quantum state is valid </li>\n",
    "    <li> Multiply Hadamard operator with the randomly created quantum state </li>\n",
    "    <li> Check whether the quantum state in result is valid </li>\n",
    "</ul>"
   ]
  },
  {
   "cell_type": "code",
   "execution_count": 12,
   "metadata": {},
   "outputs": [],
   "source": [
    "# randomly creating a 2-dimensional quantum state\n",
    "from random import randrange\n",
    "def random_quantum_state():\n",
    "    first_entry = randrange(-100,101)\n",
    "    second_entry = randrange(-100,101)\n",
    "    length_square = first_entry**2+second_entry**2\n",
    "    while length_square == 0:\n",
    "        first_entry = randrange(-100,101)\n",
    "        second_entry = randrange(-100,101)\n",
    "        length_square = first_entry**2+second_entry**2\n",
    "    first_entry = first_entry / length_square**0.5\n",
    "    second_entry = second_entry / length_square**0.5\n",
    "    return [first_entry,second_entry]"
   ]
  },
  {
   "cell_type": "code",
   "execution_count": 14,
   "metadata": {},
   "outputs": [],
   "source": [
    "# testing whether a given quantum state is valid\n",
    "def is_quantum_state(quantum_state):\n",
    "    length_square = 0\n",
    "    for i in range(len(quantum_state)):\n",
    "        length_square += quantum_state[i]**2\n",
    "    print(\"summation of entry squares is\",length_square)\n",
    "\n",
    "    if (length_square - 1)**2 < 0.00000001: return True \n",
    "    return False "
   ]
  },
  {
   "cell_type": "code",
   "execution_count": 16,
   "metadata": {},
   "outputs": [],
   "source": [
    "# defining a function for Hadamard multiplication\n",
    "def hadamard(quantum_state):\n",
    "    result_quantum_state = [0,0] \n",
    "    result_quantum_state[0] = (1/(2**0.5)) * quantum_state[0] + (1/(2**0.5)) * quantum_state[1]\n",
    "    result_quantum_state[1] = (1/(2**0.5)) * quantum_state[0] - (1/(2**0.5)) * quantum_state[1]\n",
    "    return result_quantum_state"
   ]
  },
  {
   "cell_type": "code",
   "execution_count": 17,
   "metadata": {},
   "outputs": [
    {
     "name": "stdout",
     "output_type": "stream",
     "text": [
      "[-0.9230769230769231, 0.38461538461538464] this is randomly picked quantum state\n",
      "summation of entry squares is 1.0000000000000002\n",
      "Is it valid? True\n",
      "[-0.38074980525429486, -0.924678098474716] this is new quantum state\n",
      "summation of entry squares is 1.0000000000000002\n",
      "Is it valid? True\n",
      "\n",
      "[0.9223377098533676, 0.38638471628992427] this is randomly picked quantum state\n",
      "summation of entry squares is 1.0000000000000002\n",
      "Is it valid? True\n",
      "[0.9254065022168322, 0.3789759961459408] this is new quantum state\n",
      "summation of entry squares is 1.0\n",
      "Is it valid? True\n",
      "\n",
      "[-0.9514445185544115, -0.30782028541466255] this is randomly picked quantum state\n",
      "summation of entry squares is 1.0000000000000002\n",
      "Is it valid? True\n",
      "[-0.8904346821960806, -0.4551110597891078] this is new quantum state\n",
      "summation of entry squares is 1.0\n",
      "Is it valid? True\n",
      "\n",
      "[-0.9937118653325242, -0.11196753412197455] this is randomly picked quantum state\n",
      "summation of entry squares is 1.0000000000000002\n",
      "Is it valid? True\n",
      "[-0.7818334011725454, -0.6234873958717768] this is new quantum state\n",
      "summation of entry squares is 1.0\n",
      "Is it valid? True\n",
      "\n",
      "[-0.5353350726097017, -0.8446397812286405] this is randomly picked quantum state\n",
      "summation of entry squares is 1.0000000000000002\n",
      "Is it valid? True\n",
      "[-0.9757895770160064, 0.2187114569173808] this is new quantum state\n",
      "summation of entry squares is 1.0\n",
      "Is it valid? True\n",
      "\n",
      "[0.5566749923322961, 0.8307303731728112] this is randomly picked quantum state\n",
      "summation of entry squares is 1.0\n",
      "Is it valid? True\n",
      "[0.9810437422032618, -0.19378641821299003] this is new quantum state\n",
      "summation of entry squares is 1.0\n",
      "Is it valid? True\n",
      "\n",
      "[-0.8758382566188739, -0.4826047536471346] this is randomly picked quantum state\n",
      "summation of entry squares is 1.0\n",
      "Is it valid? True\n",
      "[-0.9605642644145613, -0.2780580765410572] this is new quantum state\n",
      "summation of entry squares is 0.9999999999999997\n",
      "Is it valid? True\n",
      "\n",
      "[-0.9769732191161197, 0.21336196739317556] this is randomly picked quantum state\n",
      "summation of entry squares is 1.0\n",
      "Is it valid? True\n",
      "[-0.5399546942836415, -0.8416940822656764] this is new quantum state\n",
      "summation of entry squares is 1.0\n",
      "Is it valid? True\n",
      "\n",
      "[0.697983949732236, 0.7161134029720344] this is randomly picked quantum state\n",
      "summation of entry squares is 0.9999999999999998\n",
      "Is it valid? True\n",
      "[0.9999178273551346, -0.012819459325065896] this is new quantum state\n",
      "summation of entry squares is 0.9999999999999998\n",
      "Is it valid? True\n",
      "\n",
      "[0.7980413689309589, -0.6026026663356221] this is randomly picked quantum state\n",
      "summation of entry squares is 1.0\n",
      "Is it valid? True\n",
      "[0.1381960319114635, 0.9904048953654891] this is new quantum state\n",
      "summation of entry squares is 0.9999999999999998\n",
      "Is it valid? True\n",
      "\n"
     ]
    }
   ],
   "source": [
    "\n",
    "for i in range(10):\n",
    "    picked_quantum_state=random_quantum_state()\n",
    "    print(picked_quantum_state,\"this is randomly picked quantum state\")\n",
    "    print(\"Is it valid?\",is_quantum_state(picked_quantum_state))\n",
    "    new_quantum_state = hadamard(picked_quantum_state)\n",
    "    print(new_quantum_state,\"this is new quantum state\")\n",
    "    print(\"Is it valid?\",is_quantum_state(new_quantum_state))\n",
    "    print() "
   ]
  },
  {
   "cell_type": "code",
   "execution_count": null,
   "metadata": {},
   "outputs": [],
   "source": []
  }
 ],
 "metadata": {
  "kernelspec": {
   "display_name": "Python 3",
   "language": "python",
   "name": "python3"
  },
  "language_info": {
   "codemirror_mode": {
    "name": "ipython",
    "version": 3
   },
   "file_extension": ".py",
   "mimetype": "text/x-python",
   "name": "python",
   "nbconvert_exporter": "python",
   "pygments_lexer": "ipython3",
   "version": "3.11.1"
  }
 },
 "nbformat": 4,
 "nbformat_minor": 2
}
