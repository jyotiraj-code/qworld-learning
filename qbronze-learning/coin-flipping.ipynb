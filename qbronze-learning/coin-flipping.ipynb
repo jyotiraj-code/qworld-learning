{
 "cells": [
  {
   "cell_type": "markdown",
   "metadata": {},
   "source": [
    "Coin Flip: A Probabilistic Bit\n",
    "\n",
    "Simulating Fair and Biased coin on Python"
   ]
  },
  {
   "cell_type": "markdown",
   "metadata": {},
   "source": [
    "<h4>Task 1: Simulating FairCoin in Python</h4>\n",
    "Flip a fair coin 100 times. Calculate the total number of heads and tails, and then check the ratio of the number of heads and the number of tails.\n",
    "\n",
    "Do the same experiment 1000 times.\n",
    "\n",
    "Do the same experiment 10,000 times.\n",
    "\n",
    "Do the same experiment 100,000 times.\n",
    "\n",
    "Do your results get close to the ideal case (the numbers of heads and tails are equal)?"
   ]
  },
  {
   "cell_type": "code",
   "execution_count": 2,
   "metadata": {},
   "outputs": [
    {
     "name": "stdout",
     "output_type": "stream",
     "text": [
      "The total number of experiments:  100\n",
      "The number of heads=  54  | The number of tails:  46\n",
      "The ratio of both the results:  1.174\n",
      "The total number of experiments:  1000\n",
      "The number of heads=  492  | The number of tails:  508\n",
      "The ratio of both the results:  0.969\n",
      "The total number of experiments:  10000\n",
      "The number of heads=  5001  | The number of tails:  4999\n",
      "The ratio of both the results:  1.0\n"
     ]
    }
   ],
   "source": [
    "from random import randrange\n",
    "#\n",
    "# you may use method 'randrange' for this task\n",
    "# randrange(n) returns a value from {0,1,...,n-1} randomly\n",
    "#\n",
    "\n",
    "#\n",
    "# your solution is here\n",
    "#\n",
    "\n",
    "\n",
    "for N in [100,1000,10000]:\n",
    "    head_counts=0\n",
    "    tail_counts=0\n",
    "    for i in range(N):\n",
    "        if randrange(2)==0: head_counts+=1\n",
    "        else: tail_counts+=1\n",
    "    print(\"The total number of experiments: \", N)\n",
    "    print(\"The number of heads= \",head_counts,\" | The number of tails: \", tail_counts)\n",
    "    \n",
    "    print(\"The ratio of both the results: \", round(head_counts/tail_counts,3))\n",
    "    \n",
    "\n",
    "        \n",
    "    "
   ]
  },
  {
   "cell_type": "markdown",
   "metadata": {},
   "source": [
    "<h3> Task 2: Simulating BiasedCoin in Python</h3>\n",
    "\n",
    "Flip the following biased coin 100 times. Calculate the total numbers of heads and tails, and then check the ratio of the number of heads and the number of tails.\n",
    "\n",
    "$\n",
    "BiasedCoin = \\begin{array}{c|cc} \\hookleftarrow & \\mathbf{Head} & \\mathbf{Tail} \\\\ \\hline \\mathbf{Head} & 0.6 & 0.6 \\\\  \\mathbf{Tail} & 0.4 & 0.4  \\end{array}\n",
    "$\n",
    "\n",
    "\n",
    "Do the same experiment 1000 times.\n",
    "\n",
    "Do the same experiment 10,000 times.\n",
    "\n",
    "Do the same experiment 100,000 times.\n",
    "\n"
   ]
  },
  {
   "cell_type": "code",
   "execution_count": 1,
   "metadata": {},
   "outputs": [
    {
     "name": "stdout",
     "output_type": "stream",
     "text": [
      "The total number of experiments:  100\n",
      "The total numner of heads:  64\n",
      "The total number of tails:  36\n",
      "The ratio of both the results:  1.778\n",
      "The total number of experiments:  1000\n",
      "The total numner of heads:  605\n",
      "The total number of tails:  395\n",
      "The ratio of both the results:  1.532\n",
      "The total number of experiments:  10000\n",
      "The total numner of heads:  6038\n",
      "The total number of tails:  3962\n",
      "The ratio of both the results:  1.524\n",
      "The total number of experiments:  100000\n",
      "The total numner of heads:  59988\n",
      "The total number of tails:  40012\n",
      "The ratio of both the results:  1.499\n"
     ]
    }
   ],
   "source": [
    "#\n",
    "# you may use method 'randrange' for this task\n",
    "# randrange(n) returns a value from {0,1,...,n-1} randomly\n",
    "#\n",
    "\n",
    "#\n",
    "# your solution is here\n",
    "#\n",
    "from random import randrange\n",
    "\n",
    "for N in [100,1000,10000,100000]:\n",
    "    heads=tails=0\n",
    "    for i in range(N):\n",
    "        if randrange(100)<60: heads+=1\n",
    "        else: tails+=1\n",
    "    print(\"The total number of experiments: \", N)\n",
    "    print(\"The total numner of heads: \", heads)\n",
    "    print(\"The total number of tails: \", tails)\n",
    "    \n",
    "    print(\"The ratio of both the results: \",round(heads/tails,3))\n",
    "    \n"
   ]
  },
  {
   "cell_type": "markdown",
   "metadata": {},
   "source": [
    "<h3> Task 3 </h3>\n",
    "\n",
    "Write a function to implement the described biased coin,\n",
    "\n",
    "The inputs are integers $N>0$ and $ B \\in \\{0,\\ldots,N\\} $.\n",
    "\n",
    "The output is either \"Heads\" or \"Tails\"."
   ]
  },
  {
   "cell_type": "code",
   "execution_count": 3,
   "metadata": {},
   "outputs": [],
   "source": [
    "def biased_coin(N, B):\n",
    "    from random import randrange\n",
    "    #\n",
    "    # your solution is here\n",
    "    #\n",
    "    number = randrange(N)\n",
    "    if number < B:\n",
    "        return heads\n",
    "    else:\n",
    "        return tails\n"
   ]
  },
  {
   "cell_type": "markdown",
   "metadata": {},
   "source": [
    "<a id=\"task4\"></a>\n",
    "<h3> Task 4</h3>\n",
    "\n",
    "We use the biased coin described in Task 3. \n",
    "\n",
    "(You may use the function given in the solution.)\n",
    "\n",
    "We pick $ N $ as 101.\n",
    "\n",
    "Our task is to determine the value of $ B $ experimentially without checking its value directly.\n",
    "\n",
    "Flip the (same) biased coin 500 times, collect the statistics, and then guess the bias.\n",
    "\n",
    "Compare your guess with the actual bias by calculating the relative error in percentage (the absolute value of the difference divided by the real bias)."
   ]
  },
  {
   "cell_type": "code",
   "execution_count": 15,
   "metadata": {},
   "outputs": [],
   "source": [
    "def biased_coin(N, B):\n",
    "    from random import randrange\n",
    "    #\n",
    "    # your solution is here\n",
    "    #\n",
    "    number = randrange(N)\n",
    "    if number < B:\n",
    "        return \"heads\"\n",
    "    else:\n",
    "        return \"tails\"\n"
   ]
  },
  {
   "cell_type": "code",
   "execution_count": 16,
   "metadata": {},
   "outputs": [],
   "source": [
    "from random import randrange\n",
    "N = 101\n",
    "B = randrange(N+1)"
   ]
  },
  {
   "cell_type": "code",
   "execution_count": 21,
   "metadata": {},
   "outputs": [
    {
     "name": "stdout",
     "output_type": "stream",
     "text": [
      "my guess is 0.754\n",
      "real bias is 0.7623762376237624\n",
      "error (%) is 1.0987012987012996\n"
     ]
    }
   ],
   "source": [
    "total_toss = 500\n",
    "heads_number = 0\n",
    "for i in range(total_toss):\n",
    "    if biased_coin(N,B) == \"heads\":\n",
    "        heads_number = heads_number + 1\n",
    "\n",
    "my_guess_for_head = heads_number/total_toss\n",
    "actual_for_head = B/N\n",
    "error = abs((my_guess_for_head - actual_for_head)/actual_for_head)*100\n",
    "\n",
    "print(\"my guess is\",my_guess_for_head)\n",
    "print(\"real bias is\",actual_for_head)\n",
    "print(\"error (%) is\",error)"
   ]
  }
 ],
 "metadata": {
  "kernelspec": {
   "display_name": "Python 3",
   "language": "python",
   "name": "python3"
  },
  "language_info": {
   "codemirror_mode": {
    "name": "ipython",
    "version": 3
   },
   "file_extension": ".py",
   "mimetype": "text/x-python",
   "name": "python",
   "nbconvert_exporter": "python",
   "pygments_lexer": "ipython3",
   "version": "3.11.1"
  }
 },
 "nbformat": 4,
 "nbformat_minor": 2
}
